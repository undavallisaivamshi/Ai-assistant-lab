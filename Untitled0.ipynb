{
  "nbformat": 4,
  "nbformat_minor": 0,
  "metadata": {
    "colab": {
      "provenance": [],
      "authorship_tag": "ABX9TyPefregWpFHR1FJMzwadeJV",
      "include_colab_link": true
    },
    "kernelspec": {
      "name": "python3",
      "display_name": "Python 3"
    },
    "language_info": {
      "name": "python"
    }
  },
  "cells": [
    {
      "cell_type": "markdown",
      "metadata": {
        "id": "view-in-github",
        "colab_type": "text"
      },
      "source": [
        "<a href=\"https://colab.research.google.com/github/undavallisaivamshi/Ai-assistant-lab/blob/main/Untitled0.ipynb\" target=\"_parent\"><img src=\"https://colab.research.google.com/assets/colab-badge.svg\" alt=\"Open In Colab\"/></a>"
      ]
    },
    {
      "cell_type": "code",
      "execution_count": 5,
      "metadata": {
        "colab": {
          "base_uri": "https://localhost:8080/"
        },
        "id": "lJHR4RvTV75O",
        "outputId": "a4cb42a8-b3e7-419a-dd38-eb5fe8b2b6bc"
      },
      "outputs": [
        {
          "output_type": "stream",
          "name": "stdout",
          "text": [
            "List: [1, 2, 3, 'apple', 'banana']\n",
            "Tuple: (10, 20, 'orange', 'grape')\n",
            "Dictionary: {'name': 'Alice', 'age': 30, 'city': 'New York'}\n",
            "\n",
            "DataFrame:\n",
            "    Name  Age    City\n",
            "0    sai   25   china\n",
            "1  binnu   30    Pead\n",
            "2   nani   35  Berlin\n",
            "\n",
            "DataFrame from list of lists:\n",
            "    Name  Age   City\n",
            "0  Sarah   28   Rome\n",
            "1  David   40  Tokyo\n"
          ]
        }
      ],
      "source": [
        "import pandas as pd\n",
        "\n",
        "# 1. Creating a List\n",
        "# A list is an ordered, mutable collection of items.\n",
        "my_list = [1, 2, 3, \"apple\", \"banana\"]\n",
        "print(\"List:\", my_list)\n",
        "\n",
        "# 2. Creating a Tuple\n",
        "# A tuple is an ordered, immutable collection of items.\n",
        "my_tuple = (10, 20, \"orange\", \"grape\")\n",
        "print(\"Tuple:\", my_tuple)\n",
        "\n",
        "# 3. Creating a Dictionary\n",
        "# A dictionary is an unordered collection of key-value pairs.\n",
        "my_dictionary = {\n",
        "    \"name\": \"Alice\",\n",
        "    \"age\": 30,\n",
        "    \"city\": \"New York\"\n",
        "}\n",
        "print(\"Dictionary:\", my_dictionary)\n",
        "\n",
        "# 4. Creating a Pandas DataFrame\n",
        "# A DataFrame is a 2-dimensional labeled data structure with columns of potentially different types.\n",
        "# It requires the pandas library.\n",
        "\n",
        "# Create a DataFrame from a dictionary of lists\n",
        "data = {\n",
        "    'Name': ['sai', 'binnu', 'nani'],\n",
        "    'Age': [25, 30, 35],\n",
        "    'City': ['china', 'Pead', 'Berlin']\n",
        "}\n",
        "my_dataframe = pd.DataFrame(data)\n",
        "print(\"\\nDataFrame:\")\n",
        "print(my_dataframe)\n",
        "\n",
        "# Create a DataFrame from a list of lists (with specified columns)\n",
        "data_list_of_lists = [\n",
        "    ['Sarah', 28, 'Rome'],\n",
        "    ['David', 40, 'Tokyo']\n",
        "]\n",
        "my_dataframe_from_list = pd.DataFrame(data_list_of_lists, columns=['Name', 'Age', 'City'])\n",
        "print(\"\\nDataFrame from list of lists:\")\n",
        "print(my_dataframe_from_list)"
      ]
    }
  ]
}